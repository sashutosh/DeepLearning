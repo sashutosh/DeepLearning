{
  "nbformat": 4,
  "nbformat_minor": 0,
  "metadata": {
    "colab": {
      "name": "Untitled0.ipynb",
      "provenance": [],
      "authorship_tag": "ABX9TyOVZZybVToXavlqbiZZ++Xn",
      "include_colab_link": true
    },
    "kernelspec": {
      "name": "python3",
      "display_name": "Python 3"
    }
  },
  "cells": [
    {
      "cell_type": "markdown",
      "metadata": {
        "id": "view-in-github",
        "colab_type": "text"
      },
      "source": [
        "<a href=\"https://colab.research.google.com/github/sashutosh/DeepLearning/blob/master/PolynomialModel.ipynb\" target=\"_parent\"><img src=\"https://colab.research.google.com/assets/colab-badge.svg\" alt=\"Open In Colab\"/></a>"
      ]
    },
    {
      "cell_type": "code",
      "metadata": {
        "id": "i61Uld8yGAMX"
      },
      "source": [
        "import tensorflow.compat.v1 as tf\n",
        "tf.disable_v2_behavior()\n",
        "import numpy as np\n",
        "import matplotlib.pyplot as plt"
      ],
      "execution_count": 2,
      "outputs": []
    },
    {
      "cell_type": "code",
      "metadata": {
        "id": "PUWSs4Z3GX3h"
      },
      "source": [
        "learning_rate = 0.01\n",
        "training_epochs=40"
      ],
      "execution_count": 4,
      "outputs": []
    },
    {
      "cell_type": "code",
      "metadata": {
        "id": "7tUSHEqHGjho"
      },
      "source": [
        "#sample input data\n",
        "trX = np.linspace(-1,1,101)\n",
        "num_coeffs = 6\n",
        "trY_coeffs = [1,2,3,4,5,6]\n",
        "trY =0"
      ],
      "execution_count": 5,
      "outputs": []
    },
    {
      "cell_type": "code",
      "metadata": {
        "id": "6q1AaaoLG90D"
      },
      "source": [
        "#sample output data based on fifth degree polynomial\n",
        "for i in range(num_coeffs):\n",
        "  trY+= trY_coeffs[i]*np.power(trX,i)"
      ],
      "execution_count": 6,
      "outputs": []
    },
    {
      "cell_type": "code",
      "metadata": {
        "id": "qPHAm9gwHfGL",
        "outputId": "096394c5-1ee3-46ed-95d1-c4827e6a112b",
        "colab": {
          "base_uri": "https://localhost:8080/",
          "height": 265
        }
      },
      "source": [
        "trY+= np.random.randn(*trX.shape)*1.5\n",
        "plt.scatter(trX,trY)\n",
        "plt.show()"
      ],
      "execution_count": 7,
      "outputs": [
        {
          "output_type": "display_data",
          "data": {
            "image/png": "[encoded data removed]",
            "text/plain": [
              "<Figure size 432x288 with 1 Axes>"
            ]
          },
          "metadata": {
            "tags": [],
            "needs_background": "light"
          }
        }
      ]
    },
    {
      "cell_type": "code",
      "metadata": {
        "id": "n06v-xI6IDpf"
      },
      "source": [
        "X = tf.placeholder(tf.float32)\n",
        "Y = tf.placeholder(tf.float32)"
      ],
      "execution_count": 9,
      "outputs": []
    },
    {
      "cell_type": "code",
      "metadata": {
        "id": "ySlYoRWUJLt8"
      },
      "source": [
        "#define the polynomial model\n",
        "def model(X,w):\n",
        "  terms =[]\n",
        "  for i in range(num_coeffs):\n",
        "    term = tf.multiply(w[i], tf.pow(X,i))\n",
        "    terms.append(term)\n",
        "  return tf.add_n(terms)\n",
        "\n",
        "w = tf.Variable([0.]*num_coeffs,name=\"parameters\")\n",
        "y_model = model(X ,w)\n"
      ],
      "execution_count": 10,
      "outputs": []
    },
    {
      "cell_type": "code",
      "metadata": {
        "id": "gqEH80ZOKWqq"
      },
      "source": [
        "#cost function\n",
        "cost = (tf.pow((Y -y_model),2))\n",
        "train_op = tf.train.GradientDescentOptimizer(learning_rate).minimize(cost)"
      ],
      "execution_count": 11,
      "outputs": []
    },
    {
      "cell_type": "code",
      "metadata": {
        "id": "coi1C-pcK7_3"
      },
      "source": [
        "#set up session\n",
        "sess = tf.Session()\n",
        "init = tf.global_variables_initializer()\n",
        "sess.run(init)\n"
      ],
      "execution_count": 12,
      "outputs": []
    },
    {
      "cell_type": "code",
      "metadata": {
        "id": "p_RUesYoLLFG",
        "outputId": "75f59658-6967-46cf-f11c-b6bb850e02d2",
        "colab": {
          "base_uri": "https://localhost:8080/",
          "height": 36
        }
      },
      "source": [
        "#run the learning algorithm\n",
        "for epoch in range(training_epochs):\n",
        "  for(x,y) in zip(trX,trY):\n",
        "    sess.run(train_op,feed_dict={X: x,Y: y})\n",
        "\n",
        "w_val = sess.run(w)\n",
        "print(w_val)"
      ],
      "execution_count": 13,
      "outputs": [
        {
          "output_type": "stream",
          "text": [
            "[0.7355738 2.012136  5.0621424 4.998105  3.885317  5.1121483]\n"
          ],
          "name": "stdout"
        }
      ]
    },
    {
      "cell_type": "code",
      "metadata": {
        "id": "YmDPbuPgMJuf",
        "outputId": "5e58295b-ced7-4103-f68e-1a897318ba99",
        "colab": {
          "base_uri": "https://localhost:8080/",
          "height": 284
        }
      },
      "source": [
        "#plot the results\n",
        "plt.scatter(trX,trY)\n",
        "trY2 =0\n",
        "\n",
        "for i in range(num_coeffs):\n",
        "  trY2 += w_val[i] * np.power(trX,i)\n",
        "\n",
        "plt.plot(trX,trY2,'r')"
      ],
      "execution_count": 14,
      "outputs": [
        {
          "output_type": "execute_result",
          "data": {
            "text/plain": [
              "[<matplotlib.lines.Line2D at 0x7f3bd1091cc0>]"
            ]
          },
          "metadata": {
            "tags": []
          },
          "execution_count": 14
        },
        {
          "output_type": "display_data",
          "data": {
            "image/png": "[encoded data removed]",
            "text/plain": [
              "<Figure size 432x288 with 1 Axes>"
            ]
          },
          "metadata": {
            "tags": [],
            "needs_background": "light"
          }
        }
      ]
    }
  ]
}