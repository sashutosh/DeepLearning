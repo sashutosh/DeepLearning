{
  "nbformat": 4,
  "nbformat_minor": 0,
  "metadata": {
    "colab": {
      "name": "SampleRegression.ipynb",
      "provenance": [],
      "authorship_tag": "ABX9TyN7+ueaPNwNobNS6sgWK14P",
      "include_colab_link": true
    },
    "kernelspec": {
      "name": "python3",
      "display_name": "Python 3"
    }
  },
  "cells": [
    {
      "cell_type": "markdown",
      "metadata": {
        "id": "view-in-github",
        "colab_type": "text"
      },
      "source": [
        "<a href=\"https://colab.research.google.com/github/sashutosh/DeepLearning/blob/master/SampleRegression.ipynb\" target=\"_parent\"><img src=\"https://colab.research.google.com/assets/colab-badge.svg\" alt=\"Open In Colab\"/></a>"
      ]
    },
    {
      "cell_type": "code",
      "metadata": {
        "id": "sxzDAEs2r9Vn",
        "outputId": "43d67de2-3a47-4ce5-d8e2-d331042601c7",
        "colab": {
          "base_uri": "https://localhost:8080/",
          "height": 341
        }
      },
      "source": [
        "import tensorflow.compat.v1 as tf\n",
        "tf.disable_v2_behavior()\n",
        "import numpy as np                                                 \n",
        "import matplotlib.pyplot as plt                                    \n",
        "\n",
        "learning_rate = 0.01\n",
        "training_epochs = 100\n",
        "\n",
        "x_train = np.linspace(-1, 1, 101)                                  \n",
        "y_train = 2 * x_train + np.random.randn(*x_train.shape) * 0.33     \n",
        "\n",
        "plt.scatter(x_train, y_train)                                      \n",
        "plt.show()                    "
      ],
      "execution_count": 9,
      "outputs": [
        {
          "output_type": "stream",
          "text": [
            "WARNING:tensorflow:From /usr/local/lib/python3.6/dist-packages/tensorflow/python/compat/v2_compat.py:96: disable_resource_variables (from tensorflow.python.ops.variable_scope) is deprecated and will be removed in a future version.\n",
            "Instructions for updating:\n",
            "non-resource variables are not supported in the long term\n"
          ],
          "name": "stdout"
        },
        {
          "output_type": "display_data",
          "data": {
            "image/png": "[encoded data removed]",
            "text/plain": [
              "<Figure size 432x288 with 1 Axes>"
            ]
          },
          "metadata": {
            "tags": [],
            "needs_background": "light"
          }
        }
      ]
    },
    {
      "cell_type": "code",
      "metadata": {
        "id": "FzU5_jqbswQM"
      },
      "source": [
        "#setup input and output nodes as placeholders that will be injected via x_train and y_train\n",
        "X = tf.placeholder(tf.float32)\n",
        "Y = tf.placeholder(tf.float32)\n",
        "\n",
        "#define model = X*w \n",
        "def model(X, w): \n",
        "  return tf.multiply(X,w)\n",
        "\n",
        "#define weight variables\n",
        "w = tf.Variable(0.0, name=\"weights\")\n",
        "\n",
        "#define the cost function\n",
        "y_model = model(X,w)\n",
        "cost = tf.square(Y-y_model)\n"
      ],
      "execution_count": 12,
      "outputs": []
    },
    {
      "cell_type": "code",
      "metadata": {
        "id": "BTEIy9DWwO4-"
      },
      "source": [
        "#define the optimizer\n",
        "train_op = tf.train.GradientDescentOptimizer(learning_rate).minimize(cost)"
      ],
      "execution_count": 13,
      "outputs": []
    },
    {
      "cell_type": "code",
      "metadata": {
        "id": "JW_FgNZEwljc"
      },
      "source": [
        "#set up a sesssion and initialize all variables\n",
        "sess = tf.Session()\n",
        "init = tf.global_variables_initializer()\n",
        "sess.run(init)"
      ],
      "execution_count": 14,
      "outputs": []
    },
    {
      "cell_type": "code",
      "metadata": {
        "id": "di2cd9yow41l"
      },
      "source": [
        "#loop through multiple iterations\n",
        "for epoch in range(training_epochs):\n",
        "  for(x,y) in zip(x_train,y_train):           #for each datapoint in training set\n",
        "    sess.run(train_op,feed_dict={X: x,Y: y})  #train the model to minimize the cost function\n"
      ],
      "execution_count": 18,
      "outputs": []
    },
    {
      "cell_type": "code",
      "metadata": {
        "id": "xXHSn5GRx6H-"
      },
      "source": [
        "#get the final parameter value\n",
        "w_val = sess.run(w)"
      ],
      "execution_count": 19,
      "outputs": []
    },
    {
      "cell_type": "code",
      "metadata": {
        "id": "z9_YzrAWyDPs",
        "outputId": "d69cf72c-3835-4157-9466-87a31cbf6ec5",
        "colab": {
          "base_uri": "https://localhost:8080/",
          "height": 265
        }
      },
      "source": [
        "sess.close()\n",
        "#plot the original data\n",
        "plt.scatter(x_train,y_train)\n",
        "y_learned = x_train * w_val\n",
        "#plot the fitted line\n",
        "plt.plot(x_train, y_learned, 'r')\n",
        "plt.show( )"
      ],
      "execution_count": 20,
      "outputs": [
        {
          "output_type": "display_data",
          "data": {
            "image/png": "[encoded data removed]",
            "text/plain": [
              "<Figure size 432x288 with 1 Axes>"
            ]
          },
          "metadata": {
            "tags": [],
            "needs_background": "light"
          }
        }
      ]
    },
    {
      "cell_type": "code",
      "metadata": {
        "id": "HVLdXa85ykli"
      },
      "source": [
        ""
      ],
      "execution_count": null,
      "outputs": []
    },
    {
      "cell_type": "code",
      "metadata": {
        "id": "5QgVSq-SxxWM"
      },
      "source": [
        ""
      ],
      "execution_count": null,
      "outputs": []
    },
    {
      "cell_type": "code",
      "metadata": {
        "id": "pZjHLHBrxsFL"
      },
      "source": [
        ""
      ],
      "execution_count": null,
      "outputs": []
    },
    {
      "cell_type": "code",
      "metadata": {
        "id": "igog_FS3xlGi"
      },
      "source": [
        ""
      ],
      "execution_count": null,
      "outputs": []
    },
    {
      "cell_type": "code",
      "metadata": {
        "id": "TfTfTX1iv_Dh"
      },
      "source": [
        ""
      ],
      "execution_count": null,
      "outputs": []
    },
    {
      "cell_type": "code",
      "metadata": {
        "id": "9T2Hex6svp-L"
      },
      "source": [
        ""
      ],
      "execution_count": null,
      "outputs": []
    },
    {
      "cell_type": "code",
      "metadata": {
        "id": "fjp6GhmQugiL"
      },
      "source": [
        ""
      ],
      "execution_count": null,
      "outputs": []
    },
    {
      "cell_type": "code",
      "metadata": {
        "id": "t5qL7S0uuR0e"
      },
      "source": [
        ""
      ],
      "execution_count": null,
      "outputs": []
    },
    {
      "cell_type": "code",
      "metadata": {
        "id": "tsuL_WIQtdZn"
      },
      "source": [
        ""
      ],
      "execution_count": null,
      "outputs": []
    },
    {
      "cell_type": "code",
      "metadata": {
        "id": "kfAuVVpUtSVO"
      },
      "source": [
        ""
      ],
      "execution_count": null,
      "outputs": []
    },
    {
      "cell_type": "code",
      "metadata": {
        "id": "INlKki6SsL2L"
      },
      "source": [
        ""
      ],
      "execution_count": 1,
      "outputs": []
    },
    {
      "cell_type": "code",
      "metadata": {
        "id": "Ee32SvrRssgE"
      },
      "source": [
        ""
      ],
      "execution_count": null,
      "outputs": []
    }
  ]
}